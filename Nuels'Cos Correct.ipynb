{
 "cells": [
  {
   "cell_type": "code",
   "execution_count": 156,
   "id": "bd08cfd5",
   "metadata": {},
   "outputs": [],
   "source": [
    "import pandas as pd\n",
    "import numpy as np\n",
    "from sklearn.metrics.pairwise import *\n",
    "from string import punctuation\n",
    "import re\n",
    "from sklearn import *\n",
    "from collections import Counter"
   ]
  },
  {
   "cell_type": "code",
   "execution_count": 157,
   "id": "989993a2",
   "metadata": {},
   "outputs": [],
   "source": [
    "words=open('C:\\\\Users\\\\Emmanuel\\\\Downloads\\\\words.txt').read().split()"
   ]
  },
  {
   "cell_type": "code",
   "execution_count": 158,
   "id": "d5c82c1c",
   "metadata": {},
   "outputs": [],
   "source": [
    "#Remove punctuations from word\n",
    "def preprocess(word):\n",
    "    w=re.sub('['+punctuation+']','', word)\n",
    "    return w"
   ]
  },
  {
   "cell_type": "code",
   "execution_count": 229,
   "id": "ca299f29",
   "metadata": {},
   "outputs": [],
   "source": [
    "\n",
    "def get_spell(word):\n",
    "    x=[]\n",
    "    for snt in words:\n",
    "        if snt.startswith(word[:3]):\n",
    "            x.append(snt)\n",
    "    return x\n",
    "\n"
   ]
  },
  {
   "cell_type": "code",
   "execution_count": 160,
   "id": "b4bbd4b0",
   "metadata": {},
   "outputs": [],
   "source": [
    "def encode(lists, auto):\n",
    "    encode=preprocessing.MultiLabelBinarizer()\n",
    "    lis=encode.fit(auto)\n",
    "    li=encode.transform(lists)\n",
    "    return li\n"
   ]
  },
  {
   "cell_type": "code",
   "execution_count": 257,
   "id": "274a3046",
   "metadata": {},
   "outputs": [],
   "source": [
    "def check_similarity(chek, correct):\n",
    "    return cosine_similarity(chek, correct)\n"
   ]
  },
  {
   "cell_type": "code",
   "execution_count": 263,
   "id": "901fcf99",
   "metadata": {},
   "outputs": [
    {
     "name": "stdout",
     "output_type": "stream",
     "text": [
      "['skydiver']\n",
      "['skydivers']\n"
     ]
    }
   ],
   "source": [
    "def frmwrk(word):\n",
    "    a=get_spell(preprocess(word))\n",
    "    corr=encode(a, a)\n",
    "    check=encode([word], a)\n",
    "    c=check_similarity(check, corr)\n",
    "    c=c.reshape(-1,1)\n",
    "    c=pd.DataFrame(c)\n",
    "    c.index=[a]\n",
    "    c=c[c==c.max()].dropna()\n",
    "    for i in c.index:\n",
    "        p=[x for x in i ]\n",
    "        print(p)\n",
    "        \n",
    "frmwrk('skydovir') #Trying Skydiver\n",
    "    "
   ]
  },
  {
   "cell_type": "code",
   "execution_count": null,
   "id": "a800fd4f",
   "metadata": {},
   "outputs": [],
   "source": []
  }
 ],
 "metadata": {
  "kernelspec": {
   "display_name": "Python 3 (ipykernel)",
   "language": "python",
   "name": "python3"
  },
  "language_info": {
   "codemirror_mode": {
    "name": "ipython",
    "version": 3
   },
   "file_extension": ".py",
   "mimetype": "text/x-python",
   "name": "python",
   "nbconvert_exporter": "python",
   "pygments_lexer": "ipython3",
   "version": "3.10.0"
  }
 },
 "nbformat": 4,
 "nbformat_minor": 5
}
